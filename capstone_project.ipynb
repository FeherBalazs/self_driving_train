{
 "cells": [
  {
   "cell_type": "code",
   "execution_count": 19,
   "metadata": {
    "collapsed": true
   },
   "outputs": [],
   "source": [
    "# I have adopted the basic approach and bits of code from the following blogpost:\n",
    "# https://blog.keras.io/building-powerful-image-classification-models-using-very-little-data.html"
   ]
  },
  {
   "cell_type": "code",
   "execution_count": 20,
   "metadata": {
    "collapsed": false
   },
   "outputs": [],
   "source": [
    "from keras.preprocessing.image import ImageDataGenerator, array_to_img, img_to_array, load_img\n",
    "from keras.models import Sequential\n",
    "from keras.layers import Convolution2D, MaxPooling2D\n",
    "from keras.layers import Activation, Dropout, Flatten, Dense\n",
    "\n",
    "import matplotlib.pyplot as plt\n",
    "%matplotlib inline"
   ]
  },
  {
   "cell_type": "code",
   "execution_count": 21,
   "metadata": {
    "collapsed": false
   },
   "outputs": [],
   "source": [
    "def base_model(optimizer):\n",
    "    \"\"\"Builds a basic model for benchmark.\"\"\"\n",
    "    \n",
    "    model = Sequential()\n",
    "    model.add(Convolution2D(32, 3, 3, input_shape=(3, 150, 150)))\n",
    "    model.add(Activation('relu'))\n",
    "    model.add(MaxPooling2D(pool_size=(2, 2)))\n",
    "    \n",
    "    model.add(Flatten())\n",
    "    model.add(Dense(32, init='he_normal'))\n",
    "    model.add(Activation('relu'))\n",
    "\n",
    "    model.add(Dense(1, init='he_normal'))\n",
    "    model.add(Activation('sigmoid'))\n",
    "\n",
    "    model.compile(loss='binary_crossentropy',\n",
    "                  optimizer=optimizer,\n",
    "                  metrics=['accuracy'])\n",
    "    \n",
    "    return model"
   ]
  },
  {
   "cell_type": "code",
   "execution_count": 22,
   "metadata": {
    "collapsed": false
   },
   "outputs": [],
   "source": [
    "def build_model(optimizer):\n",
    "    \"\"\"Builds model with desired hyperparameters.\"\"\"\n",
    "    \n",
    "    model = Sequential()\n",
    "    model.add(Convolution2D(32, 3, 3, activation='relu', name='conv1', input_shape=(3, 150, 150)))\n",
    "    model.add(MaxPooling2D(pool_size=(2, 2)))\n",
    "\n",
    "    model.add(Convolution2D(32, 3, 3, activation='relu', name='conv2'))\n",
    "    model.add(MaxPooling2D(pool_size=(2, 2)))\n",
    "\n",
    "    model.add(Convolution2D(64, 3, 3, activation='relu', name='conv3'))\n",
    "    model.add(MaxPooling2D(pool_size=(2, 2)))\n",
    "\n",
    "    model.add(Flatten())\n",
    "    model.add(Dense(64))\n",
    "    model.add(Activation('relu'))\n",
    "    model.add(Dropout(0.5))\n",
    "    model.add(Dense(1))\n",
    "    model.add(Activation('sigmoid'))\n",
    "\n",
    "    model.compile(loss='binary_crossentropy',\n",
    "                  optimizer=optimizer,\n",
    "                  metrics=['accuracy'])\n",
    "    \n",
    "    return model"
   ]
  },
  {
   "cell_type": "code",
   "execution_count": 23,
   "metadata": {
    "collapsed": false
   },
   "outputs": [],
   "source": [
    "def data_augmentation():\n",
    "    \"\"\"This function handles data augmentation and reading data from the directories.\"\"\"\n",
    "    \n",
    "    # augmentation configuration used for training\n",
    "    train_datagen = ImageDataGenerator(\n",
    "            rescale=1./255,\n",
    "            rotation_range=20,\n",
    "            width_shift_range=0.01,\n",
    "            height_shift_range=0.1,\n",
    "            shear_range=0.05,\n",
    "            zoom_range=0.1,\n",
    "            horizontal_flip=False,\n",
    "            fill_mode='nearest')\n",
    "\n",
    "    # augmentation configuration used for testing\n",
    "    test_datagen = ImageDataGenerator(rescale=1./255)\n",
    "\n",
    "    # reading images from the specified directory and generating batches of augmented data\n",
    "    train_generator = train_datagen.flow_from_directory(\n",
    "            'data/train',\n",
    "            target_size=(150, 150),\n",
    "            batch_size=32,\n",
    "            class_mode='binary')\n",
    "    \n",
    "    # reading images from the specified directory and generating batches of augmented data\n",
    "    validation_generator = test_datagen.flow_from_directory(\n",
    "            'data/validation',\n",
    "            target_size=(150, 150),\n",
    "            batch_size=32,\n",
    "            class_mode='binary')\n",
    "    \n",
    "    return train_generator, validation_generator"
   ]
  },
  {
   "cell_type": "code",
   "execution_count": 24,
   "metadata": {
    "collapsed": false
   },
   "outputs": [],
   "source": [
    "def learning_curves(optimizer, history):\n",
    "    \"\"\"Display and save learning curves.\"\"\"\n",
    "    \n",
    "    # accuracy\n",
    "    plt.plot(history.history['acc'])\n",
    "    plt.plot(history.history['val_acc'])\n",
    "    plt.title('accuracy of the model')\n",
    "    plt.ylabel('accuracy')\n",
    "    plt.xlabel('epoch')\n",
    "    plt.legend(['training set', 'validation set'], loc='lower right')\n",
    "    plt.savefig(str(optimizer)+'_accuracy.png')\n",
    "    plt.show()\n",
    "\n",
    "    # loss\n",
    "    plt.plot(history.history['loss'])\n",
    "    plt.plot(history.history['val_loss'])\n",
    "    plt.title('loss of the model')\n",
    "    plt.ylabel('loss')\n",
    "    plt.xlabel('epoch')\n",
    "    plt.legend(['training set', 'validation set'], loc='upper right')\n",
    "    plt.savefig(str(optimizer)+'_loss.png')\n",
    "    plt.show()"
   ]
  },
  {
   "cell_type": "code",
   "execution_count": 27,
   "metadata": {
    "collapsed": false
   },
   "outputs": [],
   "source": [
    "def run_model(optimizer, nb_epoch):\n",
    "    \"\"\"This function builds the model\"\"\"\n",
    "    \n",
    "    train_generator, validation_generator  = data_augmentation()\n",
    "    model = build_model(optimizer)\n",
    "    #model = base_model(optimizer)    \n",
    "    \n",
    "    history = model.fit_generator(\n",
    "                    train_generator,\n",
    "                    samples_per_epoch=340,\n",
    "                    nb_epoch=nb_epoch,\n",
    "                    validation_data=validation_generator,\n",
    "                    nb_val_samples=60,\n",
    "                    verbose=1)\n",
    "    \n",
    "    learning_curves(optimizer, history)\n",
    "    model.save_weights(str(optimizer)+'.h5')\n",
    "    \n",
    "    return model"
   ]
  },
  {
   "cell_type": "code",
   "execution_count": 28,
   "metadata": {
    "collapsed": false
   },
   "outputs": [
    {
     "name": "stdout",
     "output_type": "stream",
     "text": [
      "Found 680 images belonging to 2 classes.\n",
      "Found 120 images belonging to 2 classes.\n",
      "Epoch 1/2\n",
      "320/340 [===========================>..] - ETA: 5s - loss: 0.7391 - acc: 0.5219 "
     ]
    },
    {
     "name": "stderr",
     "output_type": "stream",
     "text": [
      "C:\\Users\\bfeher\\AppData\\Local\\Continuum\\Anaconda2\\lib\\site-packages\\keras\\engine\\training.py:1403: UserWarning: Epoch comprised more than `samples_per_epoch` samples, which might affect learning results. Set `samples_per_epoch` correctly to avoid this warning.\n",
      "  warnings.warn('Epoch comprised more than '\n"
     ]
    },
    {
     "name": "stdout",
     "output_type": "stream",
     "text": [
      "352/340 [===============================] - 100s - loss: 0.7341 - acc: 0.5256 - val_loss: 0.6877 - val_acc: 0.5000\n",
      "Epoch 2/2\n",
      "360/340 [===============================] - 103s - loss: 0.6848 - acc: 0.5639 - val_loss: 0.6165 - val_acc: 0.8523\n"
     ]
    },
    {
     "data": {
      "image/png": "[encoded data removed]",
      "text/plain": [
       "<matplotlib.figure.Figure at 0xbb53da0>"
      ]
     },
     "metadata": {},
     "output_type": "display_data"
    },
    {
     "data": {
      "image/png": "[encoded data removed]",
      "text/plain": [
       "<matplotlib.figure.Figure at 0xd186860>"
      ]
     },
     "metadata": {},
     "output_type": "display_data"
    },
    {
     "name": "stdout",
     "output_type": "stream",
     "text": [
      "[WARNING] adam.h5 already exists - overwrite? [y/n]n\n",
      "Found 680 images belonging to 2 classes.\n",
      "Found 120 images belonging to 2 classes.\n",
      "Epoch 1/2\n",
      "352/340 [===============================] - 100s - loss: 0.8755 - acc: 0.5597 - val_loss: 0.6570 - val_acc: 0.7500\n",
      "Epoch 2/2\n",
      "360/340 [===============================] - 102s - loss: 0.6661 - acc: 0.6444 - val_loss: 0.5990 - val_acc: 0.6477\n"
     ]
    },
    {
     "data": {
      "image/png": "[encoded data removed]",
      "text/plain": [
       "<matplotlib.figure.Figure at 0x10bb9c88>"
      ]
     },
     "metadata": {},
     "output_type": "display_data"
    },
    {
     "data": {
      "image/png": "[encoded data removed]",
      "text/plain": [
       "<matplotlib.figure.Figure at 0x111259e8>"
      ]
     },
     "metadata": {},
     "output_type": "display_data"
    },
    {
     "name": "stdout",
     "output_type": "stream",
     "text": [
      "[WARNING] rmsprop.h5 already exists - overwrite? [y/n]n\n"
     ]
    }
   ],
   "source": [
    "optimizer_list = ['adam', 'rmsprop']\n",
    "for optimizer in optimizer_list:\n",
    "    model = run_model(optimizer, 2)"
   ]
  },
  {
   "cell_type": "markdown",
   "metadata": {},
   "source": [
    "# Filter visualization"
   ]
  },
  {
   "cell_type": "code",
   "execution_count": null,
   "metadata": {
    "collapsed": true
   },
   "outputs": [],
   "source": [
    "# For visualizing the filters I have adopted and modified the code from the following blogposts:\n",
    "# https://blog.keras.io/how-convolutional-neural-networks-see-the-world.html"
   ]
  },
  {
   "cell_type": "code",
   "execution_count": 35,
   "metadata": {
    "collapsed": true
   },
   "outputs": [],
   "source": [
    "model = Sequential()\n",
    "model.add(Convolution2D(32, 3, 3, activation='relu', name='conv1', input_shape=(3, 150, 150)))\n",
    "first_layer = model.layers[-1]\n",
    "input_img = first_layer.input\n",
    "\n",
    "model.add(MaxPooling2D(pool_size=(2, 2)))\n",
    "model.add(Convolution2D(32, 3, 3, activation='relu', name='conv2'))\n",
    "model.add(MaxPooling2D(pool_size=(2, 2)))\n",
    "\n",
    "model.add(Convolution2D(64, 3, 3, activation='relu', name='conv3'))\n",
    "model.add(MaxPooling2D(pool_size=(2, 2)))\n",
    "\n",
    "model.add(Flatten())\n",
    "model.add(Dense(64))\n",
    "model.add(Activation('relu'))\n",
    "model.add(Dropout(0.5))\n",
    "model.add(Dense(1))\n",
    "model.add(Activation('sigmoid'))\n",
    "\n",
    "model.compile(loss='binary_crossentropy',\n",
    "              optimizer=optimizer,\n",
    "              metrics=['accuracy'])\n",
    "\n",
    "layer_dict = dict([(layer.name, layer) for layer in model.layers])"
   ]
  },
  {
   "cell_type": "code",
   "execution_count": 57,
   "metadata": {
    "collapsed": false
   },
   "outputs": [],
   "source": [
    "import h5py\n",
    "model.load_weights('filter_vis.h5')"
   ]
  },
  {
   "cell_type": "code",
   "execution_count": 43,
   "metadata": {
    "collapsed": false
   },
   "outputs": [],
   "source": [
    "from keras import backend as K\n",
    "\n",
    "layer_name = 'conv2'\n",
    "filter_index = 0\n",
    "\n",
    "# build a loss function that maximizes the activation\n",
    "# of the nth filter of the layer considered\n",
    "layer_output = layer_dict[layer_name].output\n",
    "loss = K.mean(layer_output[:, filter_index, :, :])\n",
    "\n",
    "# compute the gradient of the input picture wrt this loss\n",
    "grads = K.gradients(loss, input_img)[0]\n",
    "\n",
    "# normalization trick: we normalize the gradient\n",
    "grads /= (K.sqrt(K.mean(K.square(grads))) + 1e-5)\n",
    "\n",
    "# this function returns the loss and grads given the input picture\n",
    "iterate = K.function([input_img], [loss, grads])\n",
    "\n",
    "import numpy as np\n",
    "\n",
    "# we start from a gray image with some noise\n",
    "input_img_data = np.random.random((1, 3, img_width, img_height)) * 20 + 128.\n",
    "# run gradient ascent for 20 steps\n",
    "step = 1\n",
    "for i in range(20):\n",
    "    loss_value, grads_value = iterate([input_img_data])\n",
    "    input_img_data += grads_value * step\n",
    "    \n",
    "from scipy.misc import imsave\n",
    "\n",
    "# util function to convert a tensor into a valid image\n",
    "def deprocess_image(x):\n",
    "    # normalize tensor: center on 0., ensure std is 0.1\n",
    "    x -= x.mean()\n",
    "    x /= (x.std() + 1e-5)\n",
    "    x *= 0.1\n",
    "\n",
    "    # clip to [0, 1]\n",
    "    x += 0.5\n",
    "    x = np.clip(x, 0, 1)\n",
    "\n",
    "    # convert to RGB array\n",
    "    x *= 255\n",
    "    x = x.transpose((1, 2, 0))\n",
    "    x = np.clip(x, 0, 255).astype('uint8')\n",
    "    return x\n",
    "\n",
    "img = input_img_data[0]\n",
    "img = deprocess_image(img)\n",
    "imsave('%s_filter_%d.png' % (layer_name, filter_index), img)"
   ]
  },
  {
   "cell_type": "markdown",
   "metadata": {},
   "source": [
    "### Draw output for all filters"
   ]
  },
  {
   "cell_type": "code",
   "execution_count": 52,
   "metadata": {
    "collapsed": false
   },
   "outputs": [],
   "source": [
    "layer_list = ['conv1', 'conv2', 'conv3']\n",
    "filter_list = [31,31,63]\n",
    "n = 0\n",
    "for layer_name in layer_list:\n",
    "    n += 1\n",
    "    layer_name = layer_name\n",
    "    for filter_index in range(filter_list[n]):\n",
    "\n",
    "        filter_index = filter_index\n",
    "\n",
    "        # build a loss function that maximizes the activation\n",
    "        # of the nth filter of the layer considered\n",
    "        layer_output = layer_dict[layer_name].output\n",
    "        loss = K.mean(layer_output[:, filter_index, :, :])\n",
    "\n",
    "        # compute the gradient of the input picture wrt this loss\n",
    "        grads = K.gradients(loss, input_img)[0]\n",
    "\n",
    "        # normalization trick: we normalize the gradient\n",
    "        grads /= (K.sqrt(K.mean(K.square(grads))) + 1e-5)\n",
    "\n",
    "        # this function returns the loss and grads given the input picture\n",
    "        iterate = K.function([input_img], [loss, grads])\n",
    "        \n",
    "        # we start from a gray image with some noise\n",
    "        input_img_data = np.random.random((1, 3, img_width, img_height)) * 20 + 128.\n",
    "        # run gradient ascent for 20 steps\n",
    "        step = 1\n",
    "        for i in range(20):\n",
    "            loss_value, grads_value = iterate([input_img_data])\n",
    "            input_img_data += grads_value * step\n",
    "        \n",
    "        img = input_img_data[0]\n",
    "        img = deprocess_image(img)\n",
    "        imsave('filters/%s_filter_%d.png' % (layer_name, filter_index), img)"
   ]
  },
  {
   "cell_type": "code",
   "execution_count": null,
   "metadata": {
    "collapsed": true
   },
   "outputs": [],
   "source": []
  }
 ],
 "metadata": {
  "kernelspec": {
   "display_name": "Python 2",
   "language": "python",
   "name": "python2"
  },
  "language_info": {
   "codemirror_mode": {
    "name": "ipython",
    "version": 2
   },
   "file_extension": ".py",
   "mimetype": "text/x-python",
   "name": "python",
   "nbconvert_exporter": "python",
   "pygments_lexer": "ipython2",
   "version": "2.7.11"
  }
 },
 "nbformat": 4,
 "nbformat_minor": 0
}
